{
 "cells": [
  {
   "cell_type": "markdown",
   "metadata": {},
   "source": [
    "# Python practice programs"
   ]
  },
  {
   "cell_type": "code",
   "execution_count": 1,
   "metadata": {},
   "outputs": [
    {
     "name": "stdout",
     "output_type": "stream",
     "text": [
      "alfiya\n"
     ]
    }
   ],
   "source": [
    "print(\"alfiya\")"
   ]
  },
  {
   "cell_type": "raw",
   "metadata": {},
   "source": [
    "Write a program to add numbers and strings to the list using the append list method"
   ]
  },
  {
   "cell_type": "code",
   "execution_count": 1,
   "metadata": {},
   "outputs": [
    {
     "name": "stdout",
     "output_type": "stream",
     "text": [
      "Normal list :  ['alfiya', 'anju', 'amrutha']\n",
      "Appended list :  ['alfiya', 'anju', 'amrutha', 'veena', 1]\n"
     ]
    }
   ],
   "source": [
    "list = ['alfiya','anju','amrutha']\n",
    "print('Normal list : ',list)\n",
    "list.append('veena') # append a string to the list\n",
    "list.append(1) # append an integer to the list\n",
    "print('Appended list : ',list)"
   ]
  },
  {
   "cell_type": "raw",
   "metadata": {},
   "source": [
    "Write a python program to add, subtract, multiply and divide given two numbers by using arithmetic operators"
   ]
  },
  {
   "cell_type": "code",
   "execution_count": 2,
   "metadata": {},
   "outputs": [
    {
     "name": "stdout",
     "output_type": "stream",
     "text": [
      "Sum of 15  and  10  is  25\n",
      "Difference of 15  and  10  is  5\n",
      "Product of 15  and  10  is  150\n",
      "Quotient of 15  and  10  is  1.5\n"
     ]
    }
   ],
   "source": [
    "a=15\n",
    "b=10\n",
    "sum=a+b\n",
    "sub=a-b\n",
    "mul=a*b\n",
    "div=a/b\n",
    "print('Sum of',a,' and ',b,' is ',sum)\n",
    "print('Difference of',a,' and ',b,' is ',sub)\n",
    "print('Product of',a,' and ',b,' is ',mul)\n",
    "print('Quotient of',a,' and ',b,' is ',div)\n"
   ]
  },
  {
   "cell_type": "raw",
   "metadata": {},
   "source": [
    "Write a Python program to get the largest number from a list by using max and min commands"
   ]
  },
  {
   "cell_type": "code",
   "execution_count": 3,
   "metadata": {},
   "outputs": [
    {
     "name": "stdout",
     "output_type": "stream",
     "text": [
      "List is  [1, 2, 3, 4, 5]\n",
      "Largest in the list is  5\n",
      "Smallest in the list is  1\n"
     ]
    }
   ],
   "source": [
    "list=[1,2,3,4,5]\n",
    "print('List is ',list)\n",
    "print('Largest in the list is ',max(list))\n",
    "print('Smallest in the list is ',min(list))"
   ]
  },
  {
   "cell_type": "raw",
   "metadata": {},
   "source": [
    "Write a Python program to find whether a given number (accept from the user) is even or odd by using if else command"
   ]
  },
  {
   "cell_type": "code",
   "execution_count": 4,
   "metadata": {},
   "outputs": [
    {
     "name": "stdout",
     "output_type": "stream",
     "text": [
      "Enter the number : 20\n",
      "20  is even\n"
     ]
    }
   ],
   "source": [
    "a = int(input('Enter the number : '))\n",
    "if a%2==0:\n",
    " print(a,' is even')\n",
    "else:\n",
    " print(a,' is odd')"
   ]
  },
  {
   "cell_type": "raw",
   "metadata": {},
   "source": [
    "Write a Python program to create a histogram from a given list of integers by using for while loop"
   ]
  },
  {
   "cell_type": "code",
   "execution_count": 6,
   "metadata": {},
   "outputs": [
    {
     "name": "stdout",
     "output_type": "stream",
     "text": [
      "*****\n",
      "**\n",
      "*********\n",
      "*\n",
      "******\n"
     ]
    }
   ],
   "source": [
    "list=[5,2,9,1,6]\n",
    "for x in list:\n",
    " display=''\n",
    " num=x\n",
    " while num>0:\n",
    "     display+='*'\n",
    "     num=num-1\n",
    " print(display)"
   ]
  },
  {
   "cell_type": "raw",
   "metadata": {},
   "source": [
    "Write a Python program to compute the greatest common divisor (GCD) of two positive integers by using loops"
   ]
  },
  {
   "cell_type": "code",
   "execution_count": 10,
   "metadata": {},
   "outputs": [
    {
     "name": "stdout",
     "output_type": "stream",
     "text": [
      "Enter the 1st number : 15\n",
      "Enter the 2nd number : 5\n",
      "GCD is  5\n"
     ]
    }
   ],
   "source": [
    "a=int(input(\"Enter the 1st number : \"))\n",
    "b=int(input(\"Enter the 2nd number : \"))\n",
    "if a>b:\n",
    " large=a\n",
    "else:\n",
    " large=b\n",
    "for i in range(1,large+1):\n",
    " if(a%i==0 and b%i==0):\n",
    "     gcd=i\n",
    "print(\"GCD is \",gcd)\n"
   ]
  },
  {
   "cell_type": "raw",
   "metadata": {},
   "source": [
    "Write a Python program to get the least common multiple (LCM) of two positive integers using if else and while commands"
   ]
  },
  {
   "cell_type": "code",
   "execution_count": 12,
   "metadata": {},
   "outputs": [
    {
     "name": "stdout",
     "output_type": "stream",
     "text": [
      "Enter the 1st number : 10\n",
      "Enter the 2nd number : 20\n",
      "LCM is  20\n"
     ]
    }
   ],
   "source": [
    "a=int(input(\"Enter the 1st number : \"))\n",
    "b=int(input(\"Enter the 2nd number : \"))\n",
    "if a>b:\n",
    " large=a\n",
    "else:\n",
    " large=b\n",
    "while(True):\n",
    "    if(large%a==0 and large%b==0):\n",
    "        lcm=large\n",
    "        break\n",
    "    large+1\n",
    "print(\"LCM is \",lcm)"
   ]
  },
  {
   "cell_type": "raw",
   "metadata": {},
   "source": [
    "Write a Python program to sort (ascending and descending) a dictionary by value"
   ]
  },
  {
   "cell_type": "code",
   "execution_count": 17,
   "metadata": {},
   "outputs": [
    {
     "name": "stdout",
     "output_type": "stream",
     "text": [
      "Original dictionary :  {'1': '5', '0': '2', '2': '3'}\n",
      "Dictionary in ascending order by value : [('0', '2'), ('2', '3'), ('1', '5')]\n",
      "Dictionary in descending order by value : [('1', '5'), ('2', '3'), ('0', '2')]\n"
     ]
    }
   ],
   "source": [
    "import operator\n",
    "dict = {'1':'0','0':'2','1':'5','2':'3'}\n",
    "print('Original dictionary : ',dict)\n",
    "asce_sort = sorted(dict.items(),\n",
    "key=operator.itemgetter(1))\n",
    "print('Dictionary in ascending order by value :',asce_sort)\n",
    "desce_sort = sorted(dict.items(),\n",
    "key=operator.itemgetter(1),reverse=True)\n",
    "print('Dictionary in descending order by value :',desce_sort)"
   ]
  },
  {
   "cell_type": "raw",
   "metadata": {},
   "source": [
    "Write a Python program to create a tuple"
   ]
  },
  {
   "cell_type": "code",
   "execution_count": 16,
   "metadata": {},
   "outputs": [
    {
     "name": "stdout",
     "output_type": "stream",
     "text": [
      "Tuple with strings :  ('red', 'orange', 'blue')\n",
      "Tuple with integers :  (1, 2, 3)\n",
      "Tuple with both integers & strings :  (1, 'alfiya', 2, 'anju')\n"
     ]
    }
   ],
   "source": [
    "tup1=('red','orange','blue')\n",
    "print('Tuple with strings : ',tup1)\n",
    "tup2=(1,2,3)\n",
    "print('Tuple with integers : ',tup2)\n",
    "tup3=(1,'alfiya',2,'anju')\n",
    "print('Tuple with both integers & strings : ',tup3)"
   ]
  },
  {
   "cell_type": "raw",
   "metadata": {},
   "source": [
    "Write a Python program to create a set"
   ]
  },
  {
   "cell_type": "code",
   "execution_count": 18,
   "metadata": {},
   "outputs": [
    {
     "name": "stdout",
     "output_type": "stream",
     "text": [
      "Set with strings :  {'red', 'blue', 'orange'}\n",
      "Set with integers :  {1, 2, 3}\n",
      "Tuple with both integers & strings :  {1, 2, 'alfiya', 'anju'}\n"
     ]
    }
   ],
   "source": [
    "set1={'red','orange','blue'}\n",
    "print('Set with strings : ',set1)\n",
    "set2={1,2,3}\n",
    "print('Set with integers : ',set2)\n",
    "set3={1,'alfiya',2,'anju'}\n",
    "print('Tuple with both integers & strings : ',set3)"
   ]
  },
  {
   "cell_type": "raw",
   "metadata": {},
   "source": [
    "Write a Python program to add member(s) in a set"
   ]
  },
  {
   "cell_type": "code",
   "execution_count": 19,
   "metadata": {},
   "outputs": [
    {
     "name": "stdout",
     "output_type": "stream",
     "text": [
      "{1, 2, 3, 4, 5}\n",
      "{1, 2, 3, 4, 5, 6, 7}\n"
     ]
    }
   ],
   "source": [
    "s={1,2,3,4}\n",
    "s.add(5) #single\n",
    "print(s)\n",
    "s.update([6,7]) #multiple\n",
    "print(s)"
   ]
  },
  {
   "cell_type": "raw",
   "metadata": {},
   "source": [
    "Write a Python program to find maximum and the minimum value in a set"
   ]
  },
  {
   "cell_type": "code",
   "execution_count": 20,
   "metadata": {},
   "outputs": [
    {
     "name": "stdout",
     "output_type": "stream",
     "text": [
      "{1, 2, 3, 4, 5}\n",
      "Largest in the set :  5\n"
     ]
    }
   ],
   "source": [
    "s={1,2,3,4,5}\n",
    "print(s)\n",
    "print('Largest in the set : ',max(s))"
   ]
  },
  {
   "cell_type": "raw",
   "metadata": {},
   "source": [
    "Write a Python program to find the length of a set"
   ]
  },
  {
   "cell_type": "code",
   "execution_count": 21,
   "metadata": {},
   "outputs": [
    {
     "name": "stdout",
     "output_type": "stream",
     "text": [
      "{1, 2, 3, 4, 5, 6}\n",
      "Length of the set is :  6\n"
     ]
    }
   ],
   "source": [
    "s={1,2,3,4,5,6}\n",
    "print(s)\n",
    "print(\"Length of the set is : \",len(s))"
   ]
  },
  {
   "cell_type": "raw",
   "metadata": {},
   "source": [
    "Write a Python program to convert temperatures to and from Centigrade to Fahrenheit"
   ]
  },
  {
   "cell_type": "code",
   "execution_count": 22,
   "metadata": {},
   "outputs": [
    {
     "name": "stdout",
     "output_type": "stream",
     "text": [
      "Enter a temperature in celcius : 100\n",
      "100.0 C =  212.0 F\n",
      "Enter a temperature in Fahrenheit :0\n",
      "0.0 F =  -17.7792 C\n"
     ]
    }
   ],
   "source": [
    "cel=float(input(\"Enter a temperature in celcius : \"))\n",
    "fah=(cel*1.8) + 32\n",
    "print(cel,\"C = \",fah,\"F\")\n",
    "fah=float(input(\"Enter a temperature in Fahrenheit :\"))\n",
    "cel=(fah-32)*.5556\n",
    "print(fah,\"F = \",cel,\"C\")"
   ]
  },
  {
   "cell_type": "raw",
   "metadata": {},
   "source": [
    " Write a python program to find Fibonacci series"
   ]
  },
  {
   "cell_type": "code",
   "execution_count": 23,
   "metadata": {},
   "outputs": [
    {
     "name": "stdout",
     "output_type": "stream",
     "text": [
      "Enter the number : 10\n",
      "0\n",
      "1\n",
      "1\n",
      "2\n",
      "3\n",
      "5\n",
      "8\n",
      "13\n",
      "21\n",
      "34\n"
     ]
    }
   ],
   "source": [
    "a=-1\n",
    "b=1\n",
    "num=int(input('Enter the number : '))\n",
    "for i in range(1,num+1):\n",
    " c=a+b\n",
    " print(c)\n",
    " a=b\n",
    " b=c"
   ]
  },
  {
   "cell_type": "raw",
   "metadata": {},
   "source": [
    "Write a python program to find factorial using function"
   ]
  },
  {
   "cell_type": "code",
   "execution_count": 28,
   "metadata": {},
   "outputs": [
    {
     "name": "stdout",
     "output_type": "stream",
     "text": [
      "Enter the number :5\n",
      "120\n"
     ]
    }
   ],
   "source": [
    "def fact():\n",
    " n=int(input('Enter the number :'))\n",
    " fact=1\n",
    " if n<0:\n",
    "    print(\"Factorial doesn't exists for negative numbers\")\n",
    " else:\n",
    "    for i in range(1,n+1):\n",
    "        fact=fact*i\n",
    "    print(fact)\n",
    "fact()"
   ]
  },
  {
   "cell_type": "raw",
   "metadata": {},
   "source": [
    "Write a python program to find whether the given string is palindrome or not by using function"
   ]
  },
  {
   "cell_type": "code",
   "execution_count": 1,
   "metadata": {},
   "outputs": [
    {
     "name": "stdout",
     "output_type": "stream",
     "text": [
      "Enter the String : malayalam\n",
      "malayalam  is palindrome\n"
     ]
    }
   ],
   "source": [
    "string=str(input(\"Enter the String : \"))\n",
    "reverse=string[::-1]\n",
    "if string==reverse:\n",
    "    print(string,\" is palindrome\")\n",
    "else:\n",
    "    print(string,\" is not palindrome\")"
   ]
  },
  {
   "cell_type": "raw",
   "metadata": {},
   "source": [
    "Write a python class to reverse a string word by word"
   ]
  },
  {
   "cell_type": "code",
   "execution_count": 9,
   "metadata": {},
   "outputs": [
    {
     "name": "stdout",
     "output_type": "stream",
     "text": [
      "Enter the String : i am alfiya fazil\n",
      "Reverse is  i ma ayifla lizaf\n"
     ]
    }
   ],
   "source": [
    "class reverse:\n",
    "     def __init__(self):\n",
    "         string=str(input(\"Enter the String : \"))\n",
    "         words=string.split(\" \")\n",
    "         new_word=[i[::-1] for i in words]\n",
    "         new_string=\" \".join(new_word)\n",
    "         print('Reverse is ',new_string)\n",
    "obj = reverse()"
   ]
  },
  {
   "cell_type": "raw",
   "metadata": {},
   "source": [
    "Write a python class named as circle by a radius and two methods of computer area and perimeter of a circle"
   ]
  },
  {
   "cell_type": "code",
   "execution_count": 8,
   "metadata": {},
   "outputs": [
    {
     "name": "stdout",
     "output_type": "stream",
     "text": [
      "Radius = 5\n",
      "Area of the circle =  78.53981633974483\n",
      "Perimeter of the circle =  31.41592653589793\n"
     ]
    }
   ],
   "source": [
    "import math\n",
    "class circle:\n",
    "     rad=float(input(\"Radius = \"))\n",
    "     def area(self):\n",
    "        area= math.pi*(self.rad**2)\n",
    "        print('Area of the circle = ',area)\n",
    "     def perimeter(self):\n",
    "            per=2*math.pi*self.rad\n",
    "            print('Perimeter of the circle = ',per)\n",
    "obj = circle()\n",
    "obj.area()\n",
    "obj.perimeter()"
   ]
  },
  {
   "cell_type": "raw",
   "metadata": {},
   "source": [
    "Write a python program to sort a list of elements using bubble sort algorithm"
   ]
  },
  {
   "cell_type": "code",
   "execution_count": 1,
   "metadata": {},
   "outputs": [
    {
     "name": "stdout",
     "output_type": "stream",
     "text": [
      "Enter the Total Number of Elements : 5\n",
      "Enter the Element of List : 10\n",
      "Enter the Element of List : 78\n",
      "Enter the Element of List : 45\n",
      "Enter the Element of List : 14\n",
      "Enter the Element of List : 7\n",
      "List :  [10, 78, 45, 14, 7]\n",
      "Sorted list :  [7, 10, 14, 45, 78]\n"
     ]
    }
   ],
   "source": [
    "list=[]\n",
    "num = int(input(\"Enter the Total Number of Elements : \"))\n",
    "for i in range(num):\n",
    "    value = int(input(\"Enter the Element of List : \"))\n",
    "    list.append(value)\n",
    "print('List : ',list)\n",
    "for i in range(num -1):\n",
    "    for j in range(num - i - 1):\n",
    "        if(list[j] > list[j + 1]):\n",
    "            temp = list[j]\n",
    "            list[j] = list[j + 1]\n",
    "            list[j + 1] = temp\n",
    "print('Sorted list : ',list)"
   ]
  }
 ],
 "metadata": {
  "kernelspec": {
   "display_name": "Python 3",
   "language": "python",
   "name": "python3"
  },
  "language_info": {
   "codemirror_mode": {
    "name": "ipython",
    "version": 3
   },
   "file_extension": ".py",
   "mimetype": "text/x-python",
   "name": "python",
   "nbconvert_exporter": "python",
   "pygments_lexer": "ipython3",
   "version": "3.8.5"
  }
 },
 "nbformat": 4,
 "nbformat_minor": 4
}
